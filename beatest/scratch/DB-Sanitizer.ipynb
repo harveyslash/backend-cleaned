{
 "cells": [
  {
   "cell_type": "code",
   "execution_count": 1,
   "metadata": {},
   "outputs": [],
   "source": [
    "####################### You have to run this cell #######################\n",
    "\n",
    "% load_ext autoreload\n",
    "% autoreload 2\n",
    "import sys, os\n",
    "import os\n",
    "cwd = os.getcwd()\n",
    "path = os.path.join(cwd, os.pardir)\n",
    "sys.path.append(path)\n"
   ]
  },
  {
   "cell_type": "markdown",
   "metadata": {},
   "source": [
    "# Put all imports below"
   ]
  },
  {
   "cell_type": "code",
   "execution_count": 17,
   "metadata": {},
   "outputs": [],
   "source": [
    "from models import User,Test,Payments,UserRoles,Role,College,CollegeTest,QuestionAttempt,SectionAttempt,TestAttempt,Question,Choice,Section,QuestionSection,QuestionTags,CodingCase,Choice,QuestionAllowedLanguages\n",
    "from models.Package import PackageTypes\n",
    "from app import create_app\n",
    "from extensions import db\n",
    "from sqlalchemy import and_,outerjoin,or_\n",
    "from sqlalchemy.orm import contains_eager, joinedload,load_only\n",
    "from pprint import pprint"
   ]
  },
  {
   "cell_type": "code",
   "execution_count": 3,
   "metadata": {},
   "outputs": [
    {
     "name": "stderr",
     "output_type": "stream",
     "text": [
      "/Users/harshvardhangupta/.virtualenvs/beatest-flask-rest-backend/lib/python3.6/site-packages/flask_caching/__init__.py:188: UserWarning: Flask-Cache: CACHE_TYPE is set to null, caching is effectively disabled.\n",
      "  warnings.warn(\"Flask-Cache: CACHE_TYPE is set to null, \"\n"
     ]
    }
   ],
   "source": [
    "app = create_app('./configs/prod.py')\n",
    "app.app_context().push()"
   ]
  },
  {
   "cell_type": "code",
   "execution_count": 4,
   "metadata": {},
   "outputs": [],
   "source": [
    "tests_to_keep = [165, 135,  157]"
   ]
  },
  {
   "cell_type": "code",
   "execution_count": 5,
   "metadata": {},
   "outputs": [],
   "source": [
    "q = TestAttempt.query.filter(TestAttempt.test_id.notin_([165, 135,  157])).delete(synchronize_session=False)"
   ]
  },
  {
   "cell_type": "code",
   "execution_count": 6,
   "metadata": {},
   "outputs": [],
   "source": [
    "db.session.commit()"
   ]
  },
  {
   "cell_type": "code",
   "execution_count": 7,
   "metadata": {
    "scrolled": false
   },
   "outputs": [],
   "source": [
    "section_ids = Section.query.filter(Section.test_id.in_(tests_to_keep)).all()\n",
    "section_ids = [section.id for section in section_ids]"
   ]
  },
  {
   "cell_type": "code",
   "execution_count": 8,
   "metadata": {},
   "outputs": [],
   "source": [
    "question_ids = QuestionSection.query.filter(QuestionSection.section_id.in_(section_ids)).all()\n",
    "question_ids = [question_section.question_id for question_section in question_ids]"
   ]
  },
  {
   "cell_type": "code",
   "execution_count": 9,
   "metadata": {},
   "outputs": [],
   "source": [
    "QuestionSection.query.filter(QuestionSection.question_id.notin_( question_ids )).delete(synchronize_session=False)\n",
    "db.session.commit()"
   ]
  },
  {
   "cell_type": "code",
   "execution_count": null,
   "metadata": {},
   "outputs": [],
   "source": []
  },
  {
   "cell_type": "code",
   "execution_count": 10,
   "metadata": {},
   "outputs": [
    {
     "data": {
      "text/plain": [
       "0"
      ]
     },
     "execution_count": 10,
     "metadata": {},
     "output_type": "execute_result"
    }
   ],
   "source": [
    "QuestionTags.query.filter(QuestionTags.question_id.notin_( question_ids )).delete(synchronize_session=False)"
   ]
  },
  {
   "cell_type": "code",
   "execution_count": 11,
   "metadata": {},
   "outputs": [],
   "source": [
    "db.session.commit()"
   ]
  },
  {
   "cell_type": "code",
   "execution_count": 14,
   "metadata": {},
   "outputs": [
    {
     "data": {
      "text/plain": [
       "132"
      ]
     },
     "execution_count": 14,
     "metadata": {},
     "output_type": "execute_result"
    }
   ],
   "source": [
    "CodingCase.query.filter(CodingCase.question_id.notin_(question_ids)).delete(synchronize_session=False)"
   ]
  },
  {
   "cell_type": "code",
   "execution_count": 15,
   "metadata": {},
   "outputs": [
    {
     "data": {
      "text/plain": [
       "25023"
      ]
     },
     "execution_count": 15,
     "metadata": {},
     "output_type": "execute_result"
    }
   ],
   "source": [
    "Choice.query.filter(Choice.question_id.notin_(question_ids)).delete(synchronize_session=False)"
   ]
  },
  {
   "cell_type": "code",
   "execution_count": 18,
   "metadata": {},
   "outputs": [
    {
     "data": {
      "text/plain": [
       "71"
      ]
     },
     "execution_count": 18,
     "metadata": {},
     "output_type": "execute_result"
    }
   ],
   "source": [
    "QuestionAllowedLanguages.query.filter(QuestionAllowedLanguages.question_id.notin_(question_ids)).delete(synchronize_session=False)"
   ]
  },
  {
   "cell_type": "code",
   "execution_count": 19,
   "metadata": {
    "scrolled": true
   },
   "outputs": [],
   "source": [
    "all_qtns  = Question.query.filter(Question.id.notin_(question_ids)).delete(synchronize_session=False)"
   ]
  },
  {
   "cell_type": "code",
   "execution_count": 20,
   "metadata": {},
   "outputs": [],
   "source": [
    "db.session.commit()"
   ]
  },
  {
   "cell_type": "code",
   "execution_count": null,
   "metadata": {},
   "outputs": [],
   "source": []
  },
  {
   "cell_type": "code",
   "execution_count": 25,
   "metadata": {},
   "outputs": [
    {
     "name": "stdout",
     "output_type": "stream",
     "text": [
      "MCABIHOQHHWE\n"
     ]
    }
   ],
   "source": [
    "from random import choice\n",
    "from string import ascii_uppercase\n",
    "\n"
   ]
  },
  {
   "cell_type": "code",
   "execution_count": 34,
   "metadata": {
    "scrolled": true
   },
   "outputs": [],
   "source": [
    "for user in User.query.all():\n",
    "    user.fb_auth_token = None\n",
    "    user.phone_no = None\n",
    "    \n",
    "    \n",
    "    left = ''.join(choice(ascii_uppercase) for i in range(50))\n",
    "    user.email = left\n",
    "    "
   ]
  },
  {
   "cell_type": "code",
   "execution_count": 35,
   "metadata": {},
   "outputs": [],
   "source": [
    "db.session.commit()"
   ]
  },
  {
   "cell_type": "code",
   "execution_count": null,
   "metadata": {},
   "outputs": [],
   "source": []
  }
 ],
 "metadata": {
  "hide_input": false,
  "kernelspec": {
   "display_name": "Python 3",
   "language": "python",
   "name": "python3"
  },
  "language_info": {
   "codemirror_mode": {
    "name": "ipython",
    "version": 3
   },
   "file_extension": ".py",
   "mimetype": "text/x-python",
   "name": "python",
   "nbconvert_exporter": "python",
   "pygments_lexer": "ipython3",
   "version": "3.6.4"
  },
  "varInspector": {
   "cols": {
    "lenName": 16,
    "lenType": 16,
    "lenVar": 40
   },
   "kernels_config": {
    "python": {
     "delete_cmd_postfix": "",
     "delete_cmd_prefix": "del ",
     "library": "var_list.py",
     "varRefreshCmd": "print(var_dic_list())"
    },
    "r": {
     "delete_cmd_postfix": ") ",
     "delete_cmd_prefix": "rm(",
     "library": "var_list.r",
     "varRefreshCmd": "cat(var_dic_list()) "
    }
   },
   "types_to_exclude": [
    "module",
    "function",
    "builtin_function_or_method",
    "instance",
    "_Feature"
   ],
   "window_display": false
  }
 },
 "nbformat": 4,
 "nbformat_minor": 1
}
