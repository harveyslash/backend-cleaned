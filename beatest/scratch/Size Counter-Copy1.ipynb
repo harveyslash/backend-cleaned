{
 "cells": [
  {
   "cell_type": "code",
   "execution_count": 1,
   "metadata": {},
   "outputs": [],
   "source": [
    "####################### You have to run this cell #######################\n",
    "\n",
    "% load_ext autoreload\n",
    "% autoreload 2\n",
    "import sys, os\n",
    "import os\n",
    "cwd = os.getcwd()\n",
    "path = os.path.join(cwd, os.pardir)\n",
    "sys.path.append(path)\n"
   ]
  },
  {
   "cell_type": "code",
   "execution_count": 2,
   "metadata": {},
   "outputs": [],
   "source": [
    "%matplotlib inline"
   ]
  },
  {
   "cell_type": "markdown",
   "metadata": {},
   "source": [
    "# Put all imports below"
   ]
  },
  {
   "cell_type": "code",
   "execution_count": 3,
   "metadata": {},
   "outputs": [],
   "source": [
    "from models import User,Test,Payments,UserRoles,Role,College,CollegeTest,QuestionAttempt,SectionAttempt,TestAttempt,Question,Choice,Section\n",
    "from models.Package import PackageTypes\n",
    "from app import create_app\n",
    "from extensions import db\n",
    "from sqlalchemy import and_,outerjoin,or_\n",
    "from sqlalchemy.orm import contains_eager, joinedload,load_only\n",
    "from pprint import pprint\n",
    "import urllib.request\n",
    "from bs4.element import Comment\n",
    "import pandas as pd\n",
    "from bs4 import BeautifulSoup\n"
   ]
  },
  {
   "cell_type": "code",
   "execution_count": 4,
   "metadata": {},
   "outputs": [],
   "source": [
    "def tag_visible(element):\n",
    "    if element.parent.name in ['style', 'script', 'head', 'title', 'meta', '[document]']:\n",
    "        return False\n",
    "    if isinstance(element, Comment):\n",
    "        return False\n",
    "    return True\n",
    "\n",
    "\n",
    "def text_from_html(body):\n",
    "    soup = BeautifulSoup(body, 'html.parser')\n",
    "    texts = soup.findAll(text=True)\n",
    "    visible_texts = filter(tag_visible, texts)  \n",
    "    return u\" \".join(t.strip() for t in visible_texts)\n",
    "\n",
    "html = urllib.request.urlopen('http://www.nytimes.com/2009/12/21/us/21storm.html').read()"
   ]
  },
  {
   "cell_type": "code",
   "execution_count": 4,
   "metadata": {},
   "outputs": [
    {
     "name": "stderr",
     "output_type": "stream",
     "text": [
      "/Users/harshvardhangupta/.virtualenvs/beatest-flask-rest-backend/lib/python3.6/site-packages/flask_caching/__init__.py:188: UserWarning: Flask-Cache: CACHE_TYPE is set to null, caching is effectively disabled.\n",
      "  warnings.warn(\"Flask-Cache: CACHE_TYPE is set to null, \"\n"
     ]
    }
   ],
   "source": [
    "app = create_app('./configs/prod.py')\n",
    "app.app_context().push()"
   ]
  },
  {
   "cell_type": "code",
   "execution_count": 14,
   "metadata": {},
   "outputs": [],
   "source": [
    "all_questions = Question.query.options(load_only(Question.html,Question.rc_passage)).filter(Question.type==\"RC\").all()"
   ]
  },
  {
   "cell_type": "code",
   "execution_count": 15,
   "metadata": {},
   "outputs": [],
   "source": [
    "import re\n",
    "\n",
    "def remove_html_tags(data):\n",
    "    if data == None:\n",
    "        return \"\"\n",
    "    soup = BeautifulSoup(data)\n",
    "    all_text = ''.join(soup.findAll(text=True))\n",
    "    return all_text\n"
   ]
  },
  {
   "cell_type": "code",
   "execution_count": 16,
   "metadata": {},
   "outputs": [],
   "source": [
    "# all_questions = Question.query.options(load_only(Question.html,Question.rc_passage)).all()"
   ]
  },
  {
   "cell_type": "code",
   "execution_count": 17,
   "metadata": {},
   "outputs": [],
   "source": [
    "all_htmls = [text_from_html(q.html) if q.html else \"\"  for q in all_questions ]\n",
    "all_rc = [text_from_html(q.rc_passage) if q.rc_passage else \"\" for q in all_questions ]"
   ]
  },
  {
   "cell_type": "code",
   "execution_count": 21,
   "metadata": {},
   "outputs": [],
   "source": [
    "summed = [len(html)+len(rc) for html,rc in zip(all_htmls,all_rc)]"
   ]
  },
  {
   "cell_type": "code",
   "execution_count": null,
   "metadata": {},
   "outputs": [],
   "source": [
    "filtered = list(filter(lambda x : x>0,summed))"
   ]
  },
  {
   "cell_type": "code",
   "execution_count": null,
   "metadata": {},
   "outputs": [],
   "source": [
    "max(filtered)"
   ]
  },
  {
   "cell_type": "code",
   "execution_count": null,
   "metadata": {},
   "outputs": [],
   "source": [
    "len(filtered)"
   ]
  },
  {
   "cell_type": "code",
   "execution_count": null,
   "metadata": {},
   "outputs": [],
   "source": [
    "np.argmax(np.array(summed))"
   ]
  },
  {
   "cell_type": "code",
   "execution_count": null,
   "metadata": {
    "scrolled": true
   },
   "outputs": [],
   "source": [
    "all_htmls[864],all_rc[864]"
   ]
  },
  {
   "cell_type": "code",
   "execution_count": null,
   "metadata": {},
   "outputs": [],
   "source": [
    "all_htmls[381]"
   ]
  },
  {
   "cell_type": "code",
   "execution_count": null,
   "metadata": {},
   "outputs": [],
   "source": [
    "all_rc[381]"
   ]
  },
  {
   "cell_type": "code",
   "execution_count": null,
   "metadata": {},
   "outputs": [],
   "source": [
    "len(all_rc[381])"
   ]
  },
  {
   "cell_type": "code",
   "execution_count": null,
   "metadata": {},
   "outputs": [],
   "source": [
    "all_rc[381]"
   ]
  },
  {
   "cell_type": "code",
   "execution_count": 22,
   "metadata": {},
   "outputs": [],
   "source": [
    "df = pd.DataFrame(summed)"
   ]
  },
  {
   "cell_type": "code",
   "execution_count": 23,
   "metadata": {},
   "outputs": [
    {
     "data": {
      "text/html": [
       "<div>\n",
       "<style scoped>\n",
       "    .dataframe tbody tr th:only-of-type {\n",
       "        vertical-align: middle;\n",
       "    }\n",
       "\n",
       "    .dataframe tbody tr th {\n",
       "        vertical-align: top;\n",
       "    }\n",
       "\n",
       "    .dataframe thead th {\n",
       "        text-align: right;\n",
       "    }\n",
       "</style>\n",
       "<table border=\"1\" class=\"dataframe\">\n",
       "  <thead>\n",
       "    <tr style=\"text-align: right;\">\n",
       "      <th></th>\n",
       "      <th>0</th>\n",
       "    </tr>\n",
       "  </thead>\n",
       "  <tbody>\n",
       "    <tr>\n",
       "      <th>count</th>\n",
       "      <td>2938.000000</td>\n",
       "    </tr>\n",
       "    <tr>\n",
       "      <th>mean</th>\n",
       "      <td>1242.168142</td>\n",
       "    </tr>\n",
       "    <tr>\n",
       "      <th>std</th>\n",
       "      <td>1555.596410</td>\n",
       "    </tr>\n",
       "    <tr>\n",
       "      <th>min</th>\n",
       "      <td>0.000000</td>\n",
       "    </tr>\n",
       "    <tr>\n",
       "      <th>25%</th>\n",
       "      <td>345.000000</td>\n",
       "    </tr>\n",
       "    <tr>\n",
       "      <th>50%</th>\n",
       "      <td>740.000000</td>\n",
       "    </tr>\n",
       "    <tr>\n",
       "      <th>75%</th>\n",
       "      <td>1176.000000</td>\n",
       "    </tr>\n",
       "    <tr>\n",
       "      <th>max</th>\n",
       "      <td>7463.000000</td>\n",
       "    </tr>\n",
       "  </tbody>\n",
       "</table>\n",
       "</div>"
      ],
      "text/plain": [
       "                 0\n",
       "count  2938.000000\n",
       "mean   1242.168142\n",
       "std    1555.596410\n",
       "min       0.000000\n",
       "25%     345.000000\n",
       "50%     740.000000\n",
       "75%    1176.000000\n",
       "max    7463.000000"
      ]
     },
     "execution_count": 23,
     "metadata": {},
     "output_type": "execute_result"
    }
   ],
   "source": [
    "df.describe()"
   ]
  },
  {
   "cell_type": "code",
   "execution_count": 12,
   "metadata": {},
   "outputs": [
    {
     "data": {
      "text/plain": [
       "array([[<matplotlib.axes._subplots.AxesSubplot object at 0x11a842160>]],\n",
       "      dtype=object)"
      ]
     },
     "execution_count": 12,
     "metadata": {},
     "output_type": "execute_result"
    },
    {
     "data": {
      "image/png": "[encoded data removed]",
      "text/plain": [
       "<Figure size 432x288 with 1 Axes>"
      ]
     },
     "metadata": {},
     "output_type": "display_data"
    }
   ],
   "source": [
    "df.hist()"
   ]
  },
  {
   "cell_type": "code",
   "execution_count": 13,
   "metadata": {},
   "outputs": [
    {
     "data": {
      "text/plain": [
       "<matplotlib.axes._subplots.AxesSubplot at 0x11a89a438>"
      ]
     },
     "execution_count": 13,
     "metadata": {},
     "output_type": "execute_result"
    },
    {
     "data": {
      "image/png": "[encoded data removed]",
      "text/plain": [
       "<Figure size 432x288 with 1 Axes>"
      ]
     },
     "metadata": {},
     "output_type": "display_data"
    }
   ],
   "source": [
    "df.plot.density()"
   ]
  },
  {
   "cell_type": "code",
   "execution_count": null,
   "metadata": {},
   "outputs": [],
   "source": [
    "all_htmls"
   ]
  },
  {
   "cell_type": "code",
   "execution_count": null,
   "metadata": {
    "scrolled": true
   },
   "outputs": [],
   "source": [
    "len(all_htmls)"
   ]
  },
  {
   "cell_type": "code",
   "execution_count": null,
   "metadata": {},
   "outputs": [],
   "source": [
    "len(all_questions)"
   ]
  },
  {
   "cell_type": "code",
   "execution_count": null,
   "metadata": {},
   "outputs": [],
   "source": [
    "all_questions[2]"
   ]
  },
  {
   "cell_type": "code",
   "execution_count": null,
   "metadata": {},
   "outputs": [],
   "source": [
    "from BeautifulSoup4 import beautifulsoup4\n"
   ]
  },
  {
   "cell_type": "code",
   "execution_count": null,
   "metadata": {},
   "outputs": [],
   "source": []
  },
  {
   "cell_type": "code",
   "execution_count": null,
   "metadata": {},
   "outputs": [],
   "source": [
    "remove_html_tags(all_questions[0].html)"
   ]
  },
  {
   "cell_type": "code",
   "execution_count": null,
   "metadata": {},
   "outputs": [],
   "source": [
    "all_questions[0].html"
   ]
  },
  {
   "cell_type": "code",
   "execution_count": null,
   "metadata": {},
   "outputs": [],
   "source": []
  },
  {
   "cell_type": "code",
   "execution_count": 8,
   "metadata": {},
   "outputs": [
    {
     "data": {
      "text/plain": [
       "Question({\n",
       "    \"id\": 1,\n",
       "    \"points_correct\": 1.0,\n",
       "    \"points_wrong\": -91.0,\n",
       "    \"spelling_penalty\": null,\n",
       "    \"tita_answer\": null,\n",
       "    \"topic\": \"Simplifications\",\n",
       "    \"type\": \"MCQ\"\n",
       "})"
      ]
     },
     "execution_count": 8,
     "metadata": {},
     "output_type": "execute_result"
    }
   ],
   "source": [
    "q = Question.query.get(1)\n",
    "q"
   ]
  },
  {
   "cell_type": "code",
   "execution_count": 9,
   "metadata": {},
   "outputs": [
    {
     "data": {
      "text/plain": [
       "'<p style=\"margin-left:0in\"><span style=\"font-family:Calibri; font-size:16pt\">Directions: What approximate value will come in place of the question mark (?) in the following questions</span></p>\\r\\n\\r\\n<p style=\"margin-left:0in\"><!-- [if gte msEquation 12]><m:oMathPara><m:oMathParaPr><m:jc\\r\\n   m:val=\"centerGroup\"></m:jc></m:oMathParaPr><m:oMath><m:r><span\\r\\n   style=\\'font-size:18.0pt;font-family:\"Cambria Math\";mso-ascii-font-family:\\r\\n   \"Cambria Math\";mso-fareast-font-family:+mn-ea;mso-bidi-font-family:+mn-cs;\\r\\n   mso-fareast-theme-font:minor-fareast;mso-bidi-theme-font:minor-bidi;\\r\\n   color:black;mso-color-index:1;mso-font-kerning:12.0pt;language:en-IN;\\r\\n   font-weight:normal;font-style:italic;mso-style-textfill-type:solid;\\r\\n   mso-style-textfill-fill-themecolor:text1;mso-style-textfill-fill-color:black;\\r\\n   mso-style-textfill-fill-alpha:100.0%\\'>76%&nbsp;</span></m:r><m:r><span\\r\\n   style=\\'font-size:18.0pt;font-family:\"Cambria Math\";mso-ascii-font-family:\\r\\n   \"Cambria Math\";mso-fareast-font-family:+mn-ea;mso-bidi-font-family:+mn-cs;\\r\\n   mso-fareast-theme-font:minor-fareast;mso-bidi-theme-font:minor-bidi;\\r\\n   color:black;mso-color-index:1;mso-font-kerning:12.0pt;language:en-IN;\\r\\n   font-weight:normal;font-style:italic;mso-style-textfill-type:solid;\\r\\n   mso-style-textfill-fill-themecolor:text1;mso-style-textfill-fill-color:black;\\r\\n   mso-style-textfill-fill-alpha:100.0%\\'>&#119900;&#119891;</span></m:r><m:r><span\\r\\n   style=\\'font-size:18.0pt;font-family:\"Cambria Math\";mso-ascii-font-family:\\r\\n   \"Cambria Math\";mso-fareast-font-family:+mn-ea;mso-bidi-font-family:+mn-cs;\\r\\n   mso-fareast-theme-font:minor-fareast;mso-bidi-theme-font:minor-bidi;\\r\\n   color:black;mso-color-index:1;mso-font-kerning:12.0pt;language:en-IN;\\r\\n   font-weight:normal;font-style:italic;mso-style-textfill-type:solid;\\r\\n   mso-style-textfill-fill-themecolor:text1;mso-style-textfill-fill-color:black;\\r\\n   mso-style-textfill-fill-alpha:100.0%\\'>&nbsp;1295=35%&nbsp;</span></m:r><m:r><span\\r\\n   style=\\'font-size:18.0pt;font-family:\"Cambria Math\";mso-ascii-font-family:\\r\\n   \"Cambria Math\";mso-fareast-font-family:+mn-ea;mso-bidi-font-family:+mn-cs;\\r\\n   mso-fareast-theme-font:minor-fareast;mso-bidi-theme-font:minor-bidi;\\r\\n   color:black;mso-color-index:1;mso-font-kerning:12.0pt;language:en-IN;\\r\\n   font-weight:normal;font-style:italic;mso-style-textfill-type:solid;\\r\\n   mso-style-textfill-fill-themecolor:text1;mso-style-textfill-fill-color:black;\\r\\n   mso-style-textfill-fill-alpha:100.0%\\'>&#119900;&#119891;</span></m:r><m:r><span\\r\\n   style=\\'font-size:18.0pt;font-family:\"Cambria Math\";mso-ascii-font-family:\\r\\n   \"Cambria Math\";mso-fareast-font-family:+mn-ea;mso-bidi-font-family:+mn-cs;\\r\\n   mso-fareast-theme-font:minor-fareast;mso-bidi-theme-font:minor-bidi;\\r\\n   color:black;mso-color-index:1;mso-font-kerning:12.0pt;language:en-IN;\\r\\n   font-weight:normal;font-style:italic;mso-style-textfill-type:solid;\\r\\n   mso-style-textfill-fill-themecolor:text1;mso-style-textfill-fill-color:black;\\r\\n   mso-style-textfill-fill-alpha:100.0%\\'>&nbsp;?</span></m:r></m:oMath></m:oMathPara><![endif]--><!-- [if !msEquation]--><span style=\"font-family:\\'Cambria Math\\'\">`76% of 1295=35% of ?`</span><!--[endif]--></p>\\r\\n'"
      ]
     },
     "execution_count": 9,
     "metadata": {},
     "output_type": "execute_result"
    }
   ],
   "source": [
    "q.html"
   ]
  },
  {
   "cell_type": "code",
   "execution_count": 10,
   "metadata": {
    "scrolled": true
   },
   "outputs": [
    {
     "data": {
      "text/plain": [
       "Question({\n",
       "    \"html\": \"<p style=\\\"margin-left:0in\\\"><span style=\\\"font-family:Calibri; font-size:16pt\\\">Directions: What approximate value will come in place of the question mark (?) in the following questions</span></p>\\r\\n\\r\\n<p style=\\\"margin-left:0in\\\"><!-- [if gte msEquation 12]><m:oMathPara><m:oMathParaPr><m:jc\\r\\n   m:val=\\\"centerGroup\\\"></m:jc></m:oMathParaPr><m:oMath><m:r><span\\r\\n   style='font-size:18.0pt;font-family:\\\"Cambria Math\\\";mso-ascii-font-family:\\r\\n   \\\"Cambria Math\\\";mso-fareast-font-family:+mn-ea;mso-bidi-font-family:+mn-cs;\\r\\n   mso-fareast-theme-font:minor-fareast;mso-bidi-theme-font:minor-bidi;\\r\\n   color:black;mso-color-index:1;mso-font-kerning:12.0pt;language:en-IN;\\r\\n   font-weight:normal;font-style:italic;mso-style-textfill-type:solid;\\r\\n   mso-style-textfill-fill-themecolor:text1;mso-style-textfill-fill-color:black;\\r\\n   mso-style-textfill-fill-alpha:100.0%'>76%&nbsp;</span></m:r><m:r><span\\r\\n   style='font-size:18.0pt;font-family:\\\"Cambria Math\\\";mso-ascii-font-family:\\r\\n   \\\"Cambria Math\\\";mso-fareast-font-family:+mn-ea;mso-bidi-font-family:+mn-cs;\\r\\n   mso-fareast-theme-font:minor-fareast;mso-bidi-theme-font:minor-bidi;\\r\\n   color:black;mso-color-index:1;mso-font-kerning:12.0pt;language:en-IN;\\r\\n   font-weight:normal;font-style:italic;mso-style-textfill-type:solid;\\r\\n   mso-style-textfill-fill-themecolor:text1;mso-style-textfill-fill-color:black;\\r\\n   mso-style-textfill-fill-alpha:100.0%'>&#119900;&#119891;</span></m:r><m:r><span\\r\\n   style='font-size:18.0pt;font-family:\\\"Cambria Math\\\";mso-ascii-font-family:\\r\\n   \\\"Cambria Math\\\";mso-fareast-font-family:+mn-ea;mso-bidi-font-family:+mn-cs;\\r\\n   mso-fareast-theme-font:minor-fareast;mso-bidi-theme-font:minor-bidi;\\r\\n   color:black;mso-color-index:1;mso-font-kerning:12.0pt;language:en-IN;\\r\\n   font-weight:normal;font-style:italic;mso-style-textfill-type:solid;\\r\\n   mso-style-textfill-fill-themecolor:text1;mso-style-textfill-fill-color:black;\\r\\n   mso-style-textfill-fill-alpha:100.0%'>&nbsp;1295=35%&nbsp;</span></m:r><m:r><span\\r\\n   style='font-size:18.0pt;font-family:\\\"Cambria Math\\\";mso-ascii-font-family:\\r\\n   \\\"Cambria Math\\\";mso-fareast-font-family:+mn-ea;mso-bidi-font-family:+mn-cs;\\r\\n   mso-fareast-theme-font:minor-fareast;mso-bidi-theme-font:minor-bidi;\\r\\n   color:black;mso-color-index:1;mso-font-kerning:12.0pt;language:en-IN;\\r\\n   font-weight:normal;font-style:italic;mso-style-textfill-type:solid;\\r\\n   mso-style-textfill-fill-themecolor:text1;mso-style-textfill-fill-color:black;\\r\\n   mso-style-textfill-fill-alpha:100.0%'>&#119900;&#119891;</span></m:r><m:r><span\\r\\n   style='font-size:18.0pt;font-family:\\\"Cambria Math\\\";mso-ascii-font-family:\\r\\n   \\\"Cambria Math\\\";mso-fareast-font-family:+mn-ea;mso-bidi-font-family:+mn-cs;\\r\\n   mso-fareast-theme-font:minor-fareast;mso-bidi-theme-font:minor-bidi;\\r\\n   color:black;mso-color-index:1;mso-font-kerning:12.0pt;language:en-IN;\\r\\n   font-weight:normal;font-style:italic;mso-style-textfill-type:solid;\\r\\n   mso-style-textfill-fill-themecolor:text1;mso-style-textfill-fill-color:black;\\r\\n   mso-style-textfill-fill-alpha:100.0%'>&nbsp;?</span></m:r></m:oMath></m:oMathPara><![endif]--><!-- [if !msEquation]--><span style=\\\"font-family:'Cambria Math'\\\">`76% of 1295=35% of ?`</span><!--[endif]--></p>\\r\\n\",\n",
       "    \"id\": 1,\n",
       "    \"points_correct\": 1.0,\n",
       "    \"points_wrong\": -91.0,\n",
       "    \"spelling_penalty\": null,\n",
       "    \"tita_answer\": null,\n",
       "    \"topic\": \"Simplifications\",\n",
       "    \"type\": \"MCQ\"\n",
       "})"
      ]
     },
     "execution_count": 10,
     "metadata": {},
     "output_type": "execute_result"
    }
   ],
   "source": [
    "q"
   ]
  },
  {
   "cell_type": "code",
   "execution_count": null,
   "metadata": {},
   "outputs": [],
   "source": []
  }
 ],
 "metadata": {
  "hide_input": false,
  "kernelspec": {
   "display_name": "Python 3",
   "language": "python",
   "name": "python3"
  },
  "language_info": {
   "codemirror_mode": {
    "name": "ipython",
    "version": 3
   },
   "file_extension": ".py",
   "mimetype": "text/x-python",
   "name": "python",
   "nbconvert_exporter": "python",
   "pygments_lexer": "ipython3",
   "version": "3.6.4"
  },
  "varInspector": {
   "cols": {
    "lenName": 16,
    "lenType": 16,
    "lenVar": 40
   },
   "kernels_config": {
    "python": {
     "delete_cmd_postfix": "",
     "delete_cmd_prefix": "del ",
     "library": "var_list.py",
     "varRefreshCmd": "print(var_dic_list())"
    },
    "r": {
     "delete_cmd_postfix": ") ",
     "delete_cmd_prefix": "rm(",
     "library": "var_list.r",
     "varRefreshCmd": "cat(var_dic_list()) "
    }
   },
   "types_to_exclude": [
    "module",
    "function",
    "builtin_function_or_method",
    "instance",
    "_Feature"
   ],
   "window_display": false
  }
 },
 "nbformat": 4,
 "nbformat_minor": 1
}
