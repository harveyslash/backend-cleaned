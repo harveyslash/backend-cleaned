{
 "cells": [
  {
   "cell_type": "code",
   "execution_count": 1,
   "metadata": {},
   "outputs": [],
   "source": [
    "####################### You have to run this cell #######################\n",
    "\n",
    "% load_ext autoreload\n",
    "% autoreload 2\n",
    "import sys, os\n",
    "import os\n",
    "cwd = os.getcwd()\n",
    "path = os.path.join(cwd, os.pardir)\n",
    "sys.path.append(path)\n"
   ]
  },
  {
   "cell_type": "markdown",
   "metadata": {},
   "source": [
    "# Put all imports below"
   ]
  },
  {
   "cell_type": "code",
   "execution_count": 2,
   "metadata": {},
   "outputs": [],
   "source": [
    "from models import User,Test,Payments,UserRoles,Role,College,CollegeTest,QuestionAttempt,SectionAttempt,TestAttempt,Question,Choice,Section,CorporateApplicants\n",
    "from models.Package import PackageTypes\n",
    "from app import create_app\n",
    "from extensions import db\n",
    "from sqlalchemy import and_,outerjoin,or_\n",
    "from sqlalchemy.orm import contains_eager, joinedload,load_only\n",
    "from pprint import pprint\n",
    "import json2html"
   ]
  },
  {
   "cell_type": "code",
   "execution_count": 7,
   "metadata": {
    "scrolled": true
   },
   "outputs": [
    {
     "name": "stderr",
     "output_type": "stream",
     "text": [
      "Exception during reset or similar\n",
      "Traceback (most recent call last):\n",
      "  File \"/Users/harshvardhangupta/.virtualenvs/beatest-flask-rest-backend/lib/python3.6/site-packages/sqlalchemy/engine/base.py\", line 704, in _rollback_impl\n",
      "    self.engine.dialect.do_rollback(self.connection)\n",
      "  File \"/Users/harshvardhangupta/.virtualenvs/beatest-flask-rest-backend/lib/python3.6/site-packages/sqlalchemy/dialects/mysql/base.py\", line 1775, in do_rollback\n",
      "    dbapi_connection.rollback()\n",
      "_mysql_exceptions.OperationalError: (2006, 'MySQL server has gone away')\n",
      "\n",
      "The above exception was the direct cause of the following exception:\n",
      "\n",
      "Traceback (most recent call last):\n",
      "  File \"/Users/harshvardhangupta/.virtualenvs/beatest-flask-rest-backend/lib/python3.6/site-packages/sqlalchemy/pool.py\", line 703, in _finalize_fairy\n",
      "    fairy._reset(pool)\n",
      "  File \"/Users/harshvardhangupta/.virtualenvs/beatest-flask-rest-backend/lib/python3.6/site-packages/sqlalchemy/pool.py\", line 871, in _reset\n",
      "    self._reset_agent.rollback()\n",
      "  File \"/Users/harshvardhangupta/.virtualenvs/beatest-flask-rest-backend/lib/python3.6/site-packages/sqlalchemy/engine/base.py\", line 1632, in rollback\n",
      "    self._do_rollback()\n",
      "  File \"/Users/harshvardhangupta/.virtualenvs/beatest-flask-rest-backend/lib/python3.6/site-packages/sqlalchemy/engine/base.py\", line 1670, in _do_rollback\n",
      "    self.connection._rollback_impl()\n",
      "  File \"/Users/harshvardhangupta/.virtualenvs/beatest-flask-rest-backend/lib/python3.6/site-packages/sqlalchemy/engine/base.py\", line 706, in _rollback_impl\n",
      "    self._handle_dbapi_exception(e, None, None, None, None)\n",
      "  File \"/Users/harshvardhangupta/.virtualenvs/beatest-flask-rest-backend/lib/python3.6/site-packages/sqlalchemy/engine/base.py\", line 1413, in _handle_dbapi_exception\n",
      "    exc_info\n",
      "  File \"/Users/harshvardhangupta/.virtualenvs/beatest-flask-rest-backend/lib/python3.6/site-packages/sqlalchemy/util/compat.py\", line 203, in raise_from_cause\n",
      "    reraise(type(exception), exception, tb=exc_tb, cause=cause)\n",
      "  File \"/Users/harshvardhangupta/.virtualenvs/beatest-flask-rest-backend/lib/python3.6/site-packages/sqlalchemy/util/compat.py\", line 186, in reraise\n",
      "    raise value.with_traceback(tb)\n",
      "  File \"/Users/harshvardhangupta/.virtualenvs/beatest-flask-rest-backend/lib/python3.6/site-packages/sqlalchemy/engine/base.py\", line 704, in _rollback_impl\n",
      "    self.engine.dialect.do_rollback(self.connection)\n",
      "  File \"/Users/harshvardhangupta/.virtualenvs/beatest-flask-rest-backend/lib/python3.6/site-packages/sqlalchemy/dialects/mysql/base.py\", line 1775, in do_rollback\n",
      "    dbapi_connection.rollback()\n",
      "sqlalchemy.exc.OperationalError: (_mysql_exceptions.OperationalError) (2006, 'MySQL server has gone away') (Background on this error at: http://sqlalche.me/e/e3q8)\n",
      "/Users/harshvardhangupta/.virtualenvs/beatest-flask-rest-backend/lib/python3.6/site-packages/flask_caching/__init__.py:188: UserWarning: Flask-Cache: CACHE_TYPE is set to null, caching is effectively disabled.\n",
      "  warnings.warn(\"Flask-Cache: CACHE_TYPE is set to null, \"\n"
     ]
    }
   ],
   "source": [
    "app = create_app('./configs/prod.py')\n",
    "app.app_context().push()"
   ]
  },
  {
   "cell_type": "code",
   "execution_count": 4,
   "metadata": {
    "scrolled": true
   },
   "outputs": [
    {
     "data": {
      "text/plain": [
       "TestAttempt({\n",
       "    \"date\": \"2019-02-15T06:19:38\",\n",
       "    \"focus_lost_count\": 0,\n",
       "    \"id\": 10165,\n",
       "    \"is_complete\": true,\n",
       "    \"is_graded\": true,\n",
       "    \"score\": 0,\n",
       "    \"section_attempts\": [\n",
       "        {\n",
       "            \"correct_question_count\": 0,\n",
       "            \"id\": 24659,\n",
       "            \"incorrect_question_count\": 0,\n",
       "            \"is_complete\": false,\n",
       "            \"question_attempts\": [\n",
       "                {\n",
       "                    \"attempt_status\": \"seen\",\n",
       "                    \"choice_id\": null,\n",
       "                    \"chosen_language_id\": 7,\n",
       "                    \"coding_average_time\": null,\n",
       "                    \"coding_language\": null,\n",
       "                    \"correct_coding_cases_count\": 0,\n",
       "                    \"question_id\": 7102,\n",
       "                    \"section_attempt_id\": 24659,\n",
       "                    \"time_spent\": 1725,\n",
       "                    \"tita_choice\": null,\n",
       "                    \"was_correct\": null\n",
       "                }\n",
       "            ],\n",
       "            \"score\": 0,\n",
       "            \"section_id\": 348,\n",
       "            \"test_attempt_id\": 10165,\n",
       "            \"time_spent\": 1725\n",
       "        }\n",
       "    ],\n",
       "    \"test_id\": 195,\n",
       "    \"user_id\": 6081\n",
       "})"
      ]
     },
     "execution_count": 4,
     "metadata": {},
     "output_type": "execute_result"
    }
   ],
   "source": [
    "(TestAttempt.query\n",
    "            .filter(TestAttempt.id == 10165)\n",
    "            .join(CorporateApplicants,\n",
    "                  and_(CorporateApplicants.user_id == TestAttempt.user_id,\n",
    "                       CorporateApplicants.corporate_id == 1\n",
    "                       )\n",
    "                  )\n",
    "            .join(SectionAttempt,\n",
    "                  and_(SectionAttempt.test_attempt_id == TestAttempt.id,\n",
    "                       SectionAttempt.id == 24659))\n",
    "            .join(QuestionAttempt,\n",
    "                  and_(QuestionAttempt.section_attempt_id == SectionAttempt.id,\n",
    "                       QuestionAttempt.question_id == 7102))\n",
    "             .options(contains_eager(TestAttempt.section_attempts)\n",
    "                     .contains_eager(SectionAttempt.question_attempts))\n",
    "            .one())"
   ]
  },
  {
   "cell_type": "code",
   "execution_count": null,
   "metadata": {},
   "outputs": [],
   "source": [
    "result = (TestAttempt.query\n",
    "         .filter(TestAttempt.test_id==188)\n",
    "         .join(TestAttempt.user)\n",
    "          .join(TestAttempt.section_attempts)\n",
    "          .join(SectionAttempt.question_attempts)\n",
    "          .join(User.college)\n",
    "         .options(contains_eager(TestAttempt.user).load_only(User.full_name,User.email)\n",
    "                 .contains_eager(User.college).load_only(College.college_name))\n",
    "          .options(contains_eager(TestAttempt.section_attempts).contains_eager(SectionAttempt.question_attempts))\n",
    "         .all()\n",
    "         )\n",
    "\n"
   ]
  },
  {
   "cell_type": "code",
   "execution_count": null,
   "metadata": {},
   "outputs": [],
   "source": [
    "result = (TestAttempt.query\n",
    "         .filter(TestAttempt.test_id==186)\n",
    "         .join(TestAttempt.user)\n",
    "          .join(TestAttempt.section_attempts)\n",
    "          .join(SectionAttempt.question_attempts)\n",
    "          .join(User.college)\n",
    "         .options(contains_eager(TestAttempt.user).load_only(User.full_name,User.email)\n",
    "                 .contains_eager(User.college).load_only(College.college_name))\n",
    "          .options(contains_eager(TestAttempt.section_attempts).contains_eager(SectionAttempt.question_attempts))\n",
    "         .all()\n",
    "         )\n",
    "\n"
   ]
  },
  {
   "cell_type": "code",
   "execution_count": null,
   "metadata": {},
   "outputs": [],
   "source": [
    "result"
   ]
  },
  {
   "cell_type": "code",
   "execution_count": null,
   "metadata": {},
   "outputs": [],
   "source": [
    "t = TestAttempt.query.filter(TestAttempt.user_id==12420).one()"
   ]
  },
  {
   "cell_type": "code",
   "execution_count": null,
   "metadata": {},
   "outputs": [],
   "source": [
    "TestAttempt.calculate_score_for_test(user_id=12404,test_id=186,should_persist=True)"
   ]
  },
  {
   "cell_type": "code",
   "execution_count": null,
   "metadata": {},
   "outputs": [],
   "source": [
    "json.dumps([_.todict() for _ in result])"
   ]
  },
  {
   "cell_type": "code",
   "execution_count": null,
   "metadata": {},
   "outputs": [],
   "source": [
    "json.dumps([_.todict() for _ in result])"
   ]
  },
  {
   "cell_type": "markdown",
   "metadata": {},
   "source": [
    "## Simple Queries \n",
    "For very simple queries, use MODEL.query , followed by filter arguments "
   ]
  },
  {
   "cell_type": "code",
   "execution_count": null,
   "metadata": {},
   "outputs": [],
   "source": [
    "result = User.query.filter(User.id ==1).first()\n",
    "\n",
    "pprint(result.todict(['full_name', # can specify which arguments to serialize\n",
    "             'id',\n",
    "             'referral_bonus',\n",
    "             'referral_code',\n",
    "             'wallet','college']) )"
   ]
  },
  {
   "cell_type": "code",
   "execution_count": null,
   "metadata": {},
   "outputs": [],
   "source": [
    "db.session.close_all() # this is required for just this notebook "
   ]
  },
  {
   "cell_type": "code",
   "execution_count": null,
   "metadata": {},
   "outputs": [],
   "source": [
    "pprint(result)"
   ]
  },
  {
   "cell_type": "markdown",
   "metadata": {},
   "source": [
    "## Queries with in clause \n",
    "To fetch all items that satisfy elements in a list"
   ]
  },
  {
   "cell_type": "code",
   "execution_count": null,
   "metadata": {},
   "outputs": [],
   "source": [
    "result = User.query.filter(User.id.in_([1,2,3])).all()\n",
    "\n",
    "\n",
    "pprint([result.todict(['full_name', # notice how this is serialised \n",
    "             'id',\n",
    "             'referral_bonus',\n",
    "             'referral_code',\n",
    "             'wallet',\n",
    "             'college']) for result in result])"
   ]
  },
  {
   "cell_type": "code",
   "execution_count": null,
   "metadata": {},
   "outputs": [],
   "source": [
    "db.session.close_all() # this is required for just this notebook "
   ]
  },
  {
   "cell_type": "markdown",
   "metadata": {},
   "source": [
    "## Queries with nested relationships\n",
    "Sometimes, queries with nested relationships are required. \n",
    "An example is User -> payments \n",
    "\n",
    "It is possible to fetch user first, then do user.payments  , but this will result in two queries. Also , it is not possible to do filtering on the nested resource. "
   ]
  },
  {
   "cell_type": "code",
   "execution_count": null,
   "metadata": {},
   "outputs": [],
   "source": [
    "# Get User with id =1 and all his payments \n",
    "\n",
    "result = db.session.query(User).filter(User.id==1).first()"
   ]
  },
  {
   "cell_type": "code",
   "execution_count": null,
   "metadata": {},
   "outputs": [],
   "source": [
    "pprint(result.payments) # will do a 2nd query "
   ]
  },
  {
   "cell_type": "code",
   "execution_count": null,
   "metadata": {},
   "outputs": [],
   "source": [
    "db.session.close_all() # this is required for just this notebook "
   ]
  },
  {
   "cell_type": "markdown",
   "metadata": {},
   "source": [
    "## Better way of doing this\n",
    "\n",
    "This will happen in one query. \n",
    "by adding a join and .options(contains_eager()), you are fooling sqlalchemy to think it has fetched all the things that it needs. \n",
    "Thus, calling test.payments will not cause a 2nd trip. \n"
   ]
  },
  {
   "cell_type": "code",
   "execution_count": null,
   "metadata": {},
   "outputs": [],
   "source": [
    "# Get User with id =1 and all his payments \n",
    "result = User.query\\\n",
    "        .join(User.payments)\\\n",
    "        .options(contains_eager(User.payments))\\\n",
    "        .filter(User.id ==1).all()[0]\n",
    "        \n",
    "# notice that I did not call first() , because first() will literally add \n",
    "#limit 1 to the end of the SQL query. In that case, sqlalchemy will be                                             #unable to parse the multi row result into a user -> multi payments object\n",
    "\n",
    "db.session.close_all() # this is required for just this notebook "
   ]
  },
  {
   "cell_type": "code",
   "execution_count": null,
   "metadata": {},
   "outputs": [],
   "source": [
    "pprint(result.todict())"
   ]
  },
  {
   "cell_type": "markdown",
   "metadata": {},
   "source": [
    "## Weird behaviour by `contains_eager()`\n",
    "\n",
    "It is not possible to call `first()` in the previous example, because it will literally add `LIMIT 1`\n",
    "to the query. This prevents sqlalchemy from parsing a potentially multi row result into a complex model object. \n",
    "\n",
    "However, calling `one()` does not explicitly add `LIMIT 1` to the query. It will still allow a multi row result to be returned , and parsed. \n",
    "\n",
    "The interesting thing is that , it will `one()` will restrict the primary object being searched for to exactly one object. \n",
    "\n",
    "It will throw an exception if multiple results for the primary object were returned\n",
    "\n",
    "This somewhat helps when looking for only the first value. (it will still throw a multiple result exception if multiple rows for primary object is returned)\n",
    "\n"
   ]
  },
  {
   "cell_type": "markdown",
   "metadata": {},
   "source": [
    "## Alternative, using joinedload\n",
    "\n",
    "Calling first() on a joined query wil cause incorrect results, because sqlalchemy will literally add LIMIT 1 to the end of the query. \n",
    "In order to resolve this issue, there exists joinedload(). \n",
    "If joinedload is used instead of contains_eager, sqlalchemy first wraps the query in a sub query, and then applies LIMIT on that. \n",
    "\n"
   ]
  },
  {
   "cell_type": "code",
   "execution_count": null,
   "metadata": {},
   "outputs": [],
   "source": [
    "result = User.query\\\n",
    "        .options(joinedload(User.payments))\\\n",
    "        .filter(User.id ==1).first()\n",
    "\n",
    "db.session.close_all() # this is required for just this notebook "
   ]
  },
  {
   "cell_type": "code",
   "execution_count": null,
   "metadata": {},
   "outputs": [],
   "source": [
    "pprint(result.todict(['payments',{'payments':'id'}]))"
   ]
  },
  {
   "cell_type": "markdown",
   "metadata": {},
   "source": [
    "## JoinedLoad vs Contains Eager \n",
    "\n",
    "JoinedLoad is designed to be simple, and not have the ability to alter results using conditions. \n",
    "If you have to perform conditions on some joined table, joinedload will not be helpful. \n",
    "\n",
    "Contains_eager is meant to be a 'short_circuit' mechanism. It is your way of telling sqlalchemy that this is all the results I want. Use contains_eager when performing complex intermediate queries"
   ]
  },
  {
   "cell_type": "markdown",
   "metadata": {},
   "source": [
    "# Warning!\n",
    "\n",
    "When using contains_eager and having something like \n",
    "\n",
    "`some_query.all()[0]`\n",
    "\n",
    "**Be extra careful of the query.** \n",
    "The query may be fetching millions of records , and eventually you are using just the first one. \n",
    "One way to prevent such mistakes is to always assert that the length of the result is 1. \n",
    "\n",
    "**The safer alternative is to use .one() instead **"
   ]
  },
  {
   "cell_type": "markdown",
   "metadata": {},
   "source": [
    "## Conditional \n",
    "\n",
    "Adding a condition on the nested resource"
   ]
  },
  {
   "cell_type": "code",
   "execution_count": null,
   "metadata": {},
   "outputs": [],
   "source": [
    "result = db.session.query(User) \\\n",
    "    .join(User.payments) \\\n",
    "    .options(contains_eager(User.payments)) \\\n",
    "    .filter(\n",
    "        Payments.testId.in_([24, 58, 93, 4])) \\\n",
    "    .filter(User.id == 1).one_or_none()\n",
    "# user.id =1 is guaranteed to have exactly 1 row in Users table, so one() should work. \n",
    "# if an exception occurs, theres a bigger problem and database admin should be notified.\n"
   ]
  },
  {
   "cell_type": "code",
   "execution_count": null,
   "metadata": {},
   "outputs": [],
   "source": [
    "db.session.close_all() # this is required for just this notebook "
   ]
  },
  {
   "cell_type": "code",
   "execution_count": null,
   "metadata": {},
   "outputs": [],
   "source": [
    "pprint(result)"
   ]
  },
  {
   "cell_type": "code",
   "execution_count": null,
   "metadata": {},
   "outputs": [],
   "source": [
    "pprint(result.payments) # will not call db again. "
   ]
  },
  {
   "cell_type": "markdown",
   "metadata": {},
   "source": [
    "## Multi Nesting \n",
    "\n",
    "The same logic can be extended to arbitrary amount of nesting. \n",
    "\n",
    "In this example , we want to get a particular user's payments , and the name of the test that those payments belong to. \n"
   ]
  },
  {
   "cell_type": "code",
   "execution_count": null,
   "metadata": {},
   "outputs": [],
   "source": [
    "# if you have multiple joins ,his is how you specify to load all(line 6-7)\n",
    "\n",
    "result = db.session.query(User)\\\n",
    "        .join(User.payments)\\\n",
    "        .join(Payments.test)\\\n",
    "        .options(contains_eager(User.payments)\\\n",
    "                .contains_eager(Payments.test))\\\n",
    "        .filter(Payments.testId.in_([24,58,93,4]))\\\n",
    "        .filter(User.id ==1).all()[0] # notice this. same reason as previous example.\n",
    "db.session.close_all() # this is required for just this notebook "
   ]
  },
  {
   "cell_type": "code",
   "execution_count": null,
   "metadata": {},
   "outputs": [],
   "source": [
    "pprint([result.test.name for result in result.payments])  # did not do a 2nd db call"
   ]
  },
  {
   "cell_type": "markdown",
   "metadata": {},
   "source": [
    "## A Real Example\n",
    "\n",
    "Check if a user can access a particular question attempt.<br>This is done by doing a join from \n",
    "TestAttempt --> SectionAttempts --> QuestionAttempts \n",
    "\n",
    "A filter to match the userid with the TestAttempt's user id , \n",
    "and the inputs for the (SectionAttempt.id , Question.id).<br>\n",
    "If user has access to that particular pair, a row will be returned, else nothing \n",
    "will be returned."
   ]
  },
  {
   "cell_type": "code",
   "execution_count": null,
   "metadata": {},
   "outputs": [],
   "source": [
    "query = TestAttempt \\\n",
    "    .query \\\n",
    "    .join(SectionAttempt) \\\n",
    "    .join(QuestionAttempt) \\\n",
    "    .filter(QuestionAttempt.section_attempt_id == 12) \\\n",
    "    .filter(QuestionAttempt.question_id == 5689) \\\n",
    "    .filter(TestAttempt.user_id == 536) \\\n",
    "    .exists()  # this puts the rest of the query into a sub query, and adds exists() to the result\n",
    "\n",
    "exists = db.session.query(query).scalar()\n",
    "db.session.close_all()  # this is required for just this notebook\n"
   ]
  },
  {
   "cell_type": "code",
   "execution_count": null,
   "metadata": {},
   "outputs": [],
   "source": [
    "pprint(exists)"
   ]
  },
  {
   "cell_type": "markdown",
   "metadata": {},
   "source": [
    "## Tip - use load_only to really speed up queries\n",
    "\n",
    "load_only prevents loading all columns. Sometimes, you dont need all the columns, and doing this<br>can really improve speed. E.g. By using only primary keys, its possible to speed up query speed by 10x.  \n",
    "\n",
    "In many cases, especially joins , only ids are required. In such cases, you can notice a dramatic speed boost"
   ]
  },
  {
   "cell_type": "markdown",
   "metadata": {},
   "source": [
    "### Example \n",
    "\n",
    "In order to calculate score, it is possible to do this join: \n",
    "\n",
    "`TestAttempt -> Test -> Sections -> Questions -> Choices`\n",
    "\n",
    "and also\n",
    "\n",
    "`TestAttempt -> Test -> Sections -> Questions -> QuestionAttempt`\n",
    "\n",
    "Test has instruction html (which is lots of data), and so does Question.\n",
    "We do not need these html in any way "
   ]
  },
  {
   "cell_type": "code",
   "execution_count": null,
   "metadata": {},
   "outputs": [],
   "source": [
    "def query_without_load_only():\n",
    "    result = (TestAttempt.query\n",
    "              .options(\n",
    "            contains_eager(TestAttempt.test)\n",
    "            .contains_eager(Test.sections)\n",
    "            .contains_eager(Section.questions)\n",
    "            .contains_eager(Question.choices))\n",
    "              .options(\n",
    "            contains_eager(TestAttempt.test)\n",
    "            .contains_eager(Test.sections)\n",
    "            .contains_eager(Section.questions)\n",
    "            .contains_eager(Question.question_attempts))\n",
    "              .join(TestAttempt.test)\n",
    "              .join(Test.sections)\n",
    "              .join(Section.questions)\n",
    "              .join(Question.choices)\n",
    "              .join(Question.question_attempts)\n",
    "              .filter(TestAttempt.id == 1)\n",
    "              .one())\n",
    "\n",
    "    db.session.close_all()  # this is required for just this notebook \n",
    "    return result\n"
   ]
  },
  {
   "cell_type": "code",
   "execution_count": null,
   "metadata": {},
   "outputs": [],
   "source": [
    "%timeit -n 1 query_without_load_only()"
   ]
  },
  {
   "cell_type": "code",
   "execution_count": null,
   "metadata": {},
   "outputs": [],
   "source": [
    "pprint(query_without_load_only())"
   ]
  },
  {
   "cell_type": "code",
   "execution_count": null,
   "metadata": {},
   "outputs": [],
   "source": [
    "def query_with_load_only():\n",
    "    result = TestAttempt.query\\\n",
    "    .options(\n",
    "        contains_eager(TestAttempt.test).load_only(Test.id)\\\n",
    "        .contains_eager(Test.sections).load_only(Section.id)\\\n",
    "        .contains_eager(Section.questions).load_only(\n",
    "            Question.id,\n",
    "            Question.points_correct,\n",
    "            Question.points_wrong)\\\n",
    "            .contains_eager(Question.choices)\\\n",
    "                .load_only(Choice.id,Choice.is_correct)\\\n",
    "        )\\\n",
    "    .options(\n",
    "        contains_eager(TestAttempt.test).load_only(Test.id)\\\n",
    "        .contains_eager(Test.sections).load_only(Section.id)\\\n",
    "        .contains_eager(Section.questions).load_only(Question.id)\n",
    "        .contains_eager(Question.question_attempts)\\\n",
    "        )\\\n",
    "    .join(TestAttempt.test)\\\n",
    "    .join(Test.sections)\\\n",
    "    .join(Section.questions)\\\n",
    "    .join(Question.choices)\\\n",
    "    .join(Question.question_attempts)\\\n",
    "    .filter(TestAttempt.id == 1)\\\n",
    "    .one()\n",
    "    \n",
    "    db.session.close_all() # this is required for just this notebook \n",
    "    return result"
   ]
  },
  {
   "cell_type": "code",
   "execution_count": null,
   "metadata": {},
   "outputs": [],
   "source": [
    "%timeit -n 1 query_with_load_only()"
   ]
  },
  {
   "cell_type": "code",
   "execution_count": null,
   "metadata": {},
   "outputs": [],
   "source": [
    "pprint(query_with_load_only())"
   ]
  },
  {
   "cell_type": "code",
   "execution_count": 5,
   "metadata": {
    "scrolled": true
   },
   "outputs": [
    {
     "name": "stderr",
     "output_type": "stream",
     "text": [
      "/Users/harshvardhangupta/.virtualenvs/beatest-flask-rest-backend/lib/python3.6/site-packages/sqlalchemy/ext/declarative/clsregistry.py:120: SAWarning: This declarative base already contains a class with the same class name and module name as models.QuestionAttempt.QuestionAttempt, and will be replaced in the string-lookup table.\n",
      "  item.__name__\n",
      "[autoreload of models.QuestionAttempt failed: Traceback (most recent call last):\n",
      "  File \"/Users/harshvardhangupta/.virtualenvs/beatest-flask-rest-backend/lib/python3.6/site-packages/IPython/extensions/autoreload.py\", line 245, in check\n",
      "    superreload(m, reload, self.old_objects)\n",
      "  File \"/Users/harshvardhangupta/.virtualenvs/beatest-flask-rest-backend/lib/python3.6/site-packages/IPython/extensions/autoreload.py\", line 368, in superreload\n",
      "    module = reload(module)\n",
      "  File \"/Users/harshvardhangupta/.virtualenvs/beatest-flask-rest-backend/lib/python3.6/imp.py\", line 315, in reload\n",
      "    return importlib.reload(module)\n",
      "  File \"/Users/harshvardhangupta/.virtualenvs/beatest-flask-rest-backend/lib/python3.6/importlib/__init__.py\", line 166, in reload\n",
      "    _bootstrap._exec(spec, module)\n",
      "  File \"<frozen importlib._bootstrap>\", line 618, in _exec\n",
      "  File \"<frozen importlib._bootstrap_external>\", line 678, in exec_module\n",
      "  File \"<frozen importlib._bootstrap>\", line 219, in _call_with_frames_removed\n",
      "  File \"/Users/harshvardhangupta/beatest/beatest-flask-rest-backend/beatest/scratch/../models/QuestionAttempt.py\", line 23, in <module>\n",
      "    class QuestionAttempt(Dictifiable, db.Model):\n",
      "  File \"/Users/harshvardhangupta/.virtualenvs/beatest-flask-rest-backend/lib/python3.6/site-packages/flask_sqlalchemy/model.py\", line 67, in __init__\n",
      "    super(NameMetaMixin, cls).__init__(name, bases, d)\n",
      "  File \"/Users/harshvardhangupta/.virtualenvs/beatest-flask-rest-backend/lib/python3.6/site-packages/flask_sqlalchemy/model.py\", line 121, in __init__\n",
      "    super(BindMetaMixin, cls).__init__(name, bases, d)\n",
      "sqlalchemy.exc.InvalidRequestError: Table 'question_attempt' is already defined for this MetaData instance.  Specify 'extend_existing=True' to redefine options and columns on an existing Table object.\n",
      "]\n",
      "/Users/harshvardhangupta/.virtualenvs/beatest-flask-rest-backend/lib/python3.6/site-packages/sqlalchemy/ext/declarative/clsregistry.py:120: SAWarning: This declarative base already contains a class with the same class name and module name as models.TestAttempt.TestAttempt, and will be replaced in the string-lookup table.\n",
      "  item.__name__\n",
      "[autoreload of models.TestAttempt failed: Traceback (most recent call last):\n",
      "  File \"/Users/harshvardhangupta/.virtualenvs/beatest-flask-rest-backend/lib/python3.6/site-packages/IPython/extensions/autoreload.py\", line 245, in check\n",
      "    superreload(m, reload, self.old_objects)\n",
      "  File \"/Users/harshvardhangupta/.virtualenvs/beatest-flask-rest-backend/lib/python3.6/site-packages/IPython/extensions/autoreload.py\", line 368, in superreload\n",
      "    module = reload(module)\n",
      "  File \"/Users/harshvardhangupta/.virtualenvs/beatest-flask-rest-backend/lib/python3.6/imp.py\", line 315, in reload\n",
      "    return importlib.reload(module)\n",
      "  File \"/Users/harshvardhangupta/.virtualenvs/beatest-flask-rest-backend/lib/python3.6/importlib/__init__.py\", line 166, in reload\n",
      "    _bootstrap._exec(spec, module)\n",
      "  File \"<frozen importlib._bootstrap>\", line 618, in _exec\n",
      "  File \"<frozen importlib._bootstrap_external>\", line 678, in exec_module\n",
      "  File \"<frozen importlib._bootstrap>\", line 219, in _call_with_frames_removed\n",
      "  File \"/Users/harshvardhangupta/beatest/beatest-flask-rest-backend/beatest/scratch/../models/TestAttempt.py\", line 16, in <module>\n",
      "    class TestAttempt(Dictifiable, db.Model):\n",
      "  File \"/Users/harshvardhangupta/.virtualenvs/beatest-flask-rest-backend/lib/python3.6/site-packages/flask_sqlalchemy/model.py\", line 67, in __init__\n",
      "    super(NameMetaMixin, cls).__init__(name, bases, d)\n",
      "  File \"/Users/harshvardhangupta/.virtualenvs/beatest-flask-rest-backend/lib/python3.6/site-packages/flask_sqlalchemy/model.py\", line 121, in __init__\n",
      "    super(BindMetaMixin, cls).__init__(name, bases, d)\n",
      "sqlalchemy.exc.InvalidRequestError: Table 'test_attempt' is already defined for this MetaData instance.  Specify 'extend_existing=True' to redefine options and columns on an existing Table object.\n",
      "]\n"
     ]
    }
   ],
   "source": [
    "from Externals import BingSpellCheck"
   ]
  },
  {
   "cell_type": "code",
   "execution_count": 10,
   "metadata": {},
   "outputs": [
    {
     "name": "stderr",
     "output_type": "stream",
     "text": [
      "cannot find the current segment/subsegment, please make sure you have a segment open\n",
      "No segment found, cannot begin subsegment https://api.cognitive.microsoft.com/bing/v7.0/SpellCheck.\n",
      "cannot find the current segment/subsegment, please make sure you have a segment open\n"
     ]
    },
    {
     "data": {
      "text/plain": [
       "[{'offset': 8,\n",
       "  'token': 'there',\n",
       "  'type': 'UnknownToken',\n",
       "  'suggestions': [{'suggestion': 'the', 'score': 0.8486098721839048}]}]"
      ]
     },
     "execution_count": 10,
     "metadata": {},
     "output_type": "execute_result"
    }
   ],
   "source": [
    "BingSpellCheck.get_spelling_flagged_tokens(\"this is there dream\")"
   ]
  },
  {
   "cell_type": "markdown",
   "metadata": {},
   "source": [
    "#### Difference is 3.45 seconds vs 454 milliseconds. Over 7x faster! "
   ]
  }
 ],
 "metadata": {
  "hide_input": false,
  "kernelspec": {
   "display_name": "Python 3",
   "language": "python",
   "name": "python3"
  },
  "language_info": {
   "codemirror_mode": {
    "name": "ipython",
    "version": 3
   },
   "file_extension": ".py",
   "mimetype": "text/x-python",
   "name": "python",
   "nbconvert_exporter": "python",
   "pygments_lexer": "ipython3",
   "version": "3.6.4"
  },
  "varInspector": {
   "cols": {
    "lenName": 16,
    "lenType": 16,
    "lenVar": 40
   },
   "kernels_config": {
    "python": {
     "delete_cmd_postfix": "",
     "delete_cmd_prefix": "del ",
     "library": "var_list.py",
     "varRefreshCmd": "print(var_dic_list())"
    },
    "r": {
     "delete_cmd_postfix": ") ",
     "delete_cmd_prefix": "rm(",
     "library": "var_list.r",
     "varRefreshCmd": "cat(var_dic_list()) "
    }
   },
   "types_to_exclude": [
    "module",
    "function",
    "builtin_function_or_method",
    "instance",
    "_Feature"
   ],
   "window_display": false
  }
 },
 "nbformat": 4,
 "nbformat_minor": 1
}
