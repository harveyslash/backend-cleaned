{
 "cells": [
  {
   "cell_type": "code",
   "execution_count": null,
   "metadata": {},
   "outputs": [],
   "source": [
    "####################### You have to run this cell #######################\n",
    "\n",
    "% load_ext autoreload\n",
    "% autoreload 2\n",
    "import sys, os\n",
    "import os\n",
    "cwd = os.getcwd()\n",
    "path = os.path.join(cwd, os.pardir)\n",
    "sys.path.append(path)\n"
   ]
  },
  {
   "cell_type": "markdown",
   "metadata": {},
   "source": [
    "# Put all imports below"
   ]
  },
  {
   "cell_type": "code",
   "execution_count": 2,
   "metadata": {},
   "outputs": [],
   "source": [
    "from models import User,Test,Payments,UserRoles,Role,College,CollegeTest,QuestionAttempt,SectionAttempt,TestAttempt,Question,Choice,Section\n",
    "from models.Package import PackageTypes\n",
    "from app import create_app\n",
    "from extensions import db\n",
    "from sqlalchemy import and_,outerjoin,or_\n",
    "from sqlalchemy.orm import contains_eager, joinedload,load_only\n",
    "from pprint import pprint"
   ]
  },
  {
   "cell_type": "code",
   "execution_count": 5,
   "metadata": {},
   "outputs": [],
   "source": [
    "app = create_app('./configs/prod.ini')\n",
    "app.app_context().push()"
   ]
  },
  {
   "cell_type": "markdown",
   "metadata": {},
   "source": [
    "## Simple Queries \n",
    "For very simple queries, use MODEL.query , followed by filter arguments "
   ]
  },
  {
   "cell_type": "code",
   "execution_count": 6,
   "metadata": {},
   "outputs": [
    {
     "name": "stdout",
     "output_type": "stream",
     "text": [
      "{'college': {'college_logo': None, 'college_name': 'Demo College', 'id': 1},\n",
      " 'full_name': 'Sayantan Chatterjee',\n",
      " 'id': 1,\n",
      " 'referral_bonus': None,\n",
      " 'referral_code': None,\n",
      " 'wallet': 0}\n"
     ]
    }
   ],
   "source": [
    "result = User.query.filter(User.id ==1).first()\n",
    "\n",
    "pprint(result.todict(['full_name', # can specify which arguments to serialize\n",
    "             'id',\n",
    "             'referral_bonus',\n",
    "             'referral_code',\n",
    "             'wallet','college']) )"
   ]
  },
  {
   "cell_type": "code",
   "execution_count": 7,
   "metadata": {},
   "outputs": [],
   "source": [
    "db.session.close_all() # this is required for just this notebook "
   ]
  },
  {
   "cell_type": "code",
   "execution_count": 8,
   "metadata": {},
   "outputs": [
    {
     "name": "stdout",
     "output_type": "stream",
     "text": [
      "User({\n",
      "    \"college\": {\n",
      "        \"college_logo\": null,\n",
      "        \"college_name\": \"Demo College\",\n",
      "        \"id\": 1\n",
      "    },\n",
      "    \"college_id\": 1,\n",
      "    \"email\": \"sayantan.chat@yahoo.co.in\",\n",
      "    \"fb_id\": \"10205780376428005\",\n",
      "    \"fb_oauth_token\": \"EAARlyK0lHg4BAL9XZCdmcPiSg1ICdPowoqDux0POQnMreIOWdKFzTXK7Pqkw8NswWDIZCzuPtjx86QbTtZC6Wnz7kDA7ZBtvwBhjQ986gkrrHVzWTO78jfXEs5MfJPk02B2pZA6dx6YZAiKllSl7tmuqqf9KUsZAxvya7n14LacZCgZDZD\",\n",
      "    \"full_name\": \"Sayantan Chatterjee\",\n",
      "    \"google_id\": null,\n",
      "    \"google_oauth_token\": null,\n",
      "    \"google_token_id\": null,\n",
      "    \"id\": 1,\n",
      "    \"is_active\": true,\n",
      "    \"phone_no\": null,\n",
      "    \"profile_picture\": null,\n",
      "    \"referral_bonus\": null,\n",
      "    \"referral_code\": null,\n",
      "    \"referral_code_used\": null,\n",
      "    \"type\": \"standard\",\n",
      "    \"wallet\": 0\n",
      "})\n"
     ]
    }
   ],
   "source": [
    "pprint(result)"
   ]
  },
  {
   "cell_type": "markdown",
   "metadata": {},
   "source": [
    "## Queries with in clause \n",
    "To fetch all items that satisfy elements in a list"
   ]
  },
  {
   "cell_type": "code",
   "execution_count": 9,
   "metadata": {},
   "outputs": [
    {
     "name": "stdout",
     "output_type": "stream",
     "text": [
      "[{'college': {'college_logo': None, 'college_name': 'Demo College', 'id': 1},\n",
      "  'full_name': 'Sayantan Chatterjee',\n",
      "  'id': 1,\n",
      "  'referral_bonus': None,\n",
      "  'referral_code': None,\n",
      "  'wallet': 0},\n",
      " {'college': None,\n",
      "  'full_name': 'Rohan Ghosh',\n",
      "  'id': 2,\n",
      "  'referral_bonus': None,\n",
      "  'referral_code': None,\n",
      "  'wallet': 0},\n",
      " {'college': None,\n",
      "  'full_name': 'Debraj Ghosh',\n",
      "  'id': 3,\n",
      "  'referral_bonus': None,\n",
      "  'referral_code': None,\n",
      "  'wallet': 0}]\n"
     ]
    }
   ],
   "source": [
    "result = User.query.filter(User.id.in_([1,2,3])).all()\n",
    "\n",
    "\n",
    "pprint([result.todict(['full_name', # notice how this is serialised \n",
    "             'id',\n",
    "             'referral_bonus',\n",
    "             'referral_code',\n",
    "             'wallet',\n",
    "             'college']) for result in result])"
   ]
  },
  {
   "cell_type": "code",
   "execution_count": 10,
   "metadata": {},
   "outputs": [],
   "source": [
    "db.session.close_all() # this is required for just this notebook "
   ]
  },
  {
   "cell_type": "markdown",
   "metadata": {},
   "source": [
    "## Queries with nested relationships\n",
    "Sometimes, queries with nested relationships are required. \n",
    "An example is User -> payments \n",
    "\n",
    "It is possible to fetch user first, then do user.payments  , but this will result in two queries. Also , it is not possible to do filtering on the nested resource. "
   ]
  },
  {
   "cell_type": "code",
   "execution_count": 11,
   "metadata": {},
   "outputs": [],
   "source": [
    "# Get User with id =1 and all his payments \n",
    "\n",
    "result = db.session.query(User).filter(User.id==1).first()"
   ]
  },
  {
   "cell_type": "code",
   "execution_count": 12,
   "metadata": {},
   "outputs": [
    {
     "name": "stdout",
     "output_type": "stream",
     "text": [
      "[Payments({\n",
      "    \"id\": 2,\n",
      "    \"paymentAmount\": 10000,\n",
      "    \"paymentId\": \"pay_7VA9D4Yp6ugurp\",\n",
      "    \"paymentPromoCode\": null,\n",
      "    \"paymentSuccess\": true,\n",
      "    \"testId\": 24,\n",
      "    \"userId\": 1\n",
      "}),\n",
      " Payments({\n",
      "    \"id\": 550,\n",
      "    \"paymentAmount\": null,\n",
      "    \"paymentId\": null,\n",
      "    \"paymentPromoCode\": null,\n",
      "    \"paymentSuccess\": true,\n",
      "    \"testId\": 58,\n",
      "    \"userId\": 1\n",
      "}),\n",
      " Payments({\n",
      "    \"id\": 775,\n",
      "    \"paymentAmount\": null,\n",
      "    \"paymentId\": null,\n",
      "    \"paymentPromoCode\": null,\n",
      "    \"paymentSuccess\": true,\n",
      "    \"testId\": 93,\n",
      "    \"userId\": 1\n",
      "}),\n",
      " Payments({\n",
      "    \"id\": 888,\n",
      "    \"paymentAmount\": null,\n",
      "    \"paymentId\": null,\n",
      "    \"paymentPromoCode\": null,\n",
      "    \"paymentSuccess\": true,\n",
      "    \"testId\": 92,\n",
      "    \"userId\": 1\n",
      "}),\n",
      " Payments({\n",
      "    \"id\": 889,\n",
      "    \"paymentAmount\": null,\n",
      "    \"paymentId\": null,\n",
      "    \"paymentPromoCode\": null,\n",
      "    \"paymentSuccess\": true,\n",
      "    \"testId\": 94,\n",
      "    \"userId\": 1\n",
      "}),\n",
      " Payments({\n",
      "    \"id\": 890,\n",
      "    \"paymentAmount\": null,\n",
      "    \"paymentId\": null,\n",
      "    \"paymentPromoCode\": null,\n",
      "    \"paymentSuccess\": true,\n",
      "    \"testId\": 95,\n",
      "    \"userId\": 1\n",
      "}),\n",
      " Payments({\n",
      "    \"id\": 891,\n",
      "    \"paymentAmount\": null,\n",
      "    \"paymentId\": null,\n",
      "    \"paymentPromoCode\": null,\n",
      "    \"paymentSuccess\": true,\n",
      "    \"testId\": 96,\n",
      "    \"userId\": 1\n",
      "}),\n",
      " Payments({\n",
      "    \"id\": 892,\n",
      "    \"paymentAmount\": null,\n",
      "    \"paymentId\": null,\n",
      "    \"paymentPromoCode\": null,\n",
      "    \"paymentSuccess\": true,\n",
      "    \"testId\": 97,\n",
      "    \"userId\": 1\n",
      "}),\n",
      " Payments({\n",
      "    \"id\": 893,\n",
      "    \"paymentAmount\": null,\n",
      "    \"paymentId\": null,\n",
      "    \"paymentPromoCode\": null,\n",
      "    \"paymentSuccess\": true,\n",
      "    \"testId\": 99,\n",
      "    \"userId\": 1\n",
      "}),\n",
      " Payments({\n",
      "    \"id\": 894,\n",
      "    \"paymentAmount\": null,\n",
      "    \"paymentId\": null,\n",
      "    \"paymentPromoCode\": null,\n",
      "    \"paymentSuccess\": true,\n",
      "    \"testId\": 100,\n",
      "    \"userId\": 1\n",
      "}),\n",
      " Payments({\n",
      "    \"id\": 895,\n",
      "    \"paymentAmount\": null,\n",
      "    \"paymentId\": null,\n",
      "    \"paymentPromoCode\": null,\n",
      "    \"paymentSuccess\": true,\n",
      "    \"testId\": 101,\n",
      "    \"userId\": 1\n",
      "}),\n",
      " Payments({\n",
      "    \"id\": 896,\n",
      "    \"paymentAmount\": null,\n",
      "    \"paymentId\": null,\n",
      "    \"paymentPromoCode\": null,\n",
      "    \"paymentSuccess\": true,\n",
      "    \"testId\": 102,\n",
      "    \"userId\": 1\n",
      "}),\n",
      " Payments({\n",
      "    \"id\": 908,\n",
      "    \"paymentAmount\": null,\n",
      "    \"paymentId\": null,\n",
      "    \"paymentPromoCode\": null,\n",
      "    \"paymentSuccess\": true,\n",
      "    \"testId\": 60,\n",
      "    \"userId\": 1\n",
      "}),\n",
      " Payments({\n",
      "    \"id\": 930,\n",
      "    \"paymentAmount\": null,\n",
      "    \"paymentId\": null,\n",
      "    \"paymentPromoCode\": null,\n",
      "    \"paymentSuccess\": true,\n",
      "    \"testId\": 4,\n",
      "    \"userId\": 1\n",
      "}),\n",
      " Payments({\n",
      "    \"id\": 17434,\n",
      "    \"paymentAmount\": null,\n",
      "    \"paymentId\": null,\n",
      "    \"paymentPromoCode\": null,\n",
      "    \"paymentSuccess\": false,\n",
      "    \"testId\": 102,\n",
      "    \"userId\": 1\n",
      "})]\n"
     ]
    }
   ],
   "source": [
    "pprint(result.payments) # will do a 2nd query "
   ]
  },
  {
   "cell_type": "code",
   "execution_count": 13,
   "metadata": {},
   "outputs": [],
   "source": [
    "db.session.close_all() # this is required for just this notebook "
   ]
  },
  {
   "cell_type": "markdown",
   "metadata": {},
   "source": [
    "## Better way of doing this\n",
    "\n",
    "This will happen in one query. \n",
    "by adding a join and .options(contains_eager()), you are fooling sqlalchemy to think it has fetched all the things that it needs. \n",
    "Thus, calling test.payments will not cause a 2nd trip. \n"
   ]
  },
  {
   "cell_type": "code",
   "execution_count": 14,
   "metadata": {},
   "outputs": [],
   "source": [
    "# Get User with id =1 and all his payments \n",
    "result = User.query\\\n",
    "        .join(User.payments)\\\n",
    "        .options(contains_eager(User.payments))\\\n",
    "        .filter(User.id ==1).all()[0]\n",
    "        \n",
    "# notice that I did not call first() , because first() will literally add \n",
    "#limit 1 to the end of the SQL query. In that case, sqlalchemy will be                                             #unable to parse the multi row result into a user -> multi payments object\n",
    "\n",
    "db.session.close_all() # this is required for just this notebook "
   ]
  },
  {
   "cell_type": "code",
   "execution_count": 30,
   "metadata": {},
   "outputs": [
    {
     "name": "stdout",
     "output_type": "stream",
     "text": [
      "{'college_id': 1,\n",
      " 'email': 'sayantan.chat@yahoo.co.in',\n",
      " 'fb_id': '10205780376428005',\n",
      " 'fb_oauth_token': 'EAARlyK0lHg4BAL9XZCdmcPiSg1ICdPowoqDux0POQnMreIOWdKFzTXK7Pqkw8NswWDIZCzuPtjx86QbTtZC6Wnz7kDA7ZBtvwBhjQ986gkrrHVzWTO78jfXEs5MfJPk02B2pZA6dx6YZAiKllSl7tmuqqf9KUsZAxvya7n14LacZCgZDZD',\n",
      " 'full_name': 'Sayantan Chatterjee',\n",
      " 'google_id': None,\n",
      " 'google_oauth_token': None,\n",
      " 'google_token_id': None,\n",
      " 'id': 1,\n",
      " 'is_active': True,\n",
      " 'payments': [{'id': 2,\n",
      "               'paymentAmount': 10000,\n",
      "               'paymentId': 'pay_7VA9D4Yp6ugurp',\n",
      "               'paymentPromoCode': None,\n",
      "               'paymentSuccess': True,\n",
      "               'test': {'character': 'Topic',\n",
      "                        'created_date': '2016-11-22T22:54:18',\n",
      "                        'id': 24,\n",
      "                        'is_active': True,\n",
      "                        'leaderboard_id': None,\n",
      "                        'name': 'Reading Comprehension 01',\n",
      "                        'price': 0,\n",
      "                        'type': 'CAT'},\n",
      "               'testId': 24,\n",
      "               'userId': 1},\n",
      "              {'id': 550,\n",
      "               'paymentAmount': None,\n",
      "               'paymentId': None,\n",
      "               'paymentPromoCode': None,\n",
      "               'paymentSuccess': True,\n",
      "               'test': {'character': 'Mock',\n",
      "                        'created_date': '2017-01-22T03:41:09',\n",
      "                        'id': 58,\n",
      "                        'is_active': False,\n",
      "                        'leaderboard_id': None,\n",
      "                        'name': 'Beatest Mock',\n",
      "                        'price': 49,\n",
      "                        'type': 'CAT'},\n",
      "               'testId': 58,\n",
      "               'userId': 1},\n",
      "              {'id': 775,\n",
      "               'paymentAmount': None,\n",
      "               'paymentId': None,\n",
      "               'paymentPromoCode': None,\n",
      "               'paymentSuccess': True,\n",
      "               'test': {'character': 'Mock',\n",
      "                        'created_date': '2017-05-15T07:12:16',\n",
      "                        'id': 93,\n",
      "                        'is_active': False,\n",
      "                        'leaderboard_id': None,\n",
      "                        'name': 'Beatest_Mock',\n",
      "                        'price': 19,\n",
      "                        'type': 'IBPS'},\n",
      "               'testId': 93,\n",
      "               'userId': 1},\n",
      "              {'id': 930,\n",
      "               'paymentAmount': None,\n",
      "               'paymentId': None,\n",
      "               'paymentPromoCode': None,\n",
      "               'paymentSuccess': True,\n",
      "               'test': {'character': 'Mock',\n",
      "                        'created_date': '2016-11-22T22:43:17',\n",
      "                        'id': 4,\n",
      "                        'is_active': True,\n",
      "                        'leaderboard_id': None,\n",
      "                        'name': 'BEAT CAT 02',\n",
      "                        'price': 49,\n",
      "                        'type': 'CAT'},\n",
      "               'testId': 4,\n",
      "               'userId': 1}],\n",
      " 'phone_no': None,\n",
      " 'profile_picture': None,\n",
      " 'referral_bonus': None,\n",
      " 'referral_code': None,\n",
      " 'referral_code_used': None,\n",
      " 'type': 'standard',\n",
      " 'wallet': 0}\n"
     ]
    }
   ],
   "source": [
    "pprint(result.todict())"
   ]
  },
  {
   "cell_type": "markdown",
   "metadata": {},
   "source": [
    "## Weird behaviour by `contains_eager()`\n",
    "\n",
    "It is not possible to call `first()` in the previous example, because it will literally add `LIMIT 1`\n",
    "to the query. This prevents sqlalchemy from parsing a potentially multi row result into a complex model object. \n",
    "\n",
    "However, calling `one()` does not explicitly add `LIMIT 1` to the query. It will still allow a multi row result to be returned , and parsed. \n",
    "\n",
    "The interesting thing is that , it will `one()` will restrict the primary object being searched for to exactly one object. \n",
    "\n",
    "It will throw an exception if multiple results for the primary object were returned\n",
    "\n",
    "This somewhat helps when looking for only the first value. (it will still throw a multiple result exception if multiple rows for primary object is returned)\n",
    "\n"
   ]
  },
  {
   "cell_type": "markdown",
   "metadata": {},
   "source": [
    "## Alternative, using joinedload\n",
    "\n",
    "Calling first() on a joined query wil cause incorrect results, because sqlalchemy will literally add LIMIT 1 to the end of the query. \n",
    "In order to resolve this issue, there exists joinedload(). \n",
    "If joinedload is used instead of contains_eager, sqlalchemy first wraps the query in a sub query, and then applies LIMIT on that. \n",
    "\n"
   ]
  },
  {
   "cell_type": "code",
   "execution_count": 16,
   "metadata": {},
   "outputs": [],
   "source": [
    "result = User.query\\\n",
    "        .options(joinedload(User.payments))\\\n",
    "        .filter(User.id ==1).first()\n",
    "\n",
    "db.session.close_all() # this is required for just this notebook "
   ]
  },
  {
   "cell_type": "code",
   "execution_count": 17,
   "metadata": {},
   "outputs": [
    {
     "name": "stdout",
     "output_type": "stream",
     "text": [
      "{'payments': [{'id': 2},\n",
      "              {'id': 550},\n",
      "              {'id': 775},\n",
      "              {'id': 888},\n",
      "              {'id': 889},\n",
      "              {'id': 890},\n",
      "              {'id': 891},\n",
      "              {'id': 892},\n",
      "              {'id': 893},\n",
      "              {'id': 894},\n",
      "              {'id': 895},\n",
      "              {'id': 896},\n",
      "              {'id': 908},\n",
      "              {'id': 930},\n",
      "              {'id': 17434}]}\n"
     ]
    }
   ],
   "source": [
    "pprint(result.todict(['payments',{'payments':'id'}]))"
   ]
  },
  {
   "cell_type": "markdown",
   "metadata": {},
   "source": [
    "## JoinedLoad vs Contains Eager \n",
    "\n",
    "JoinedLoad is designed to be simple, and not have the ability to alter results using conditions. \n",
    "If you have to perform conditions on some joined table, joinedload will not be helpful. \n",
    "\n",
    "Contains_eager is meant to be a 'short_circuit' mechanism. It is your way of telling sqlalchemy that this is all the results I want. Use contains_eager when performing complex intermediate queries"
   ]
  },
  {
   "cell_type": "markdown",
   "metadata": {},
   "source": [
    "# Warning!\n",
    "\n",
    "When using contains_eager and having something like \n",
    "\n",
    "`some_query.all()[0]`\n",
    "\n",
    "**Be extra careful of the query.** \n",
    "The query may be fetching millions of records , and eventually you are using just the first one. \n",
    "One way to prevent such mistakes is to always assert that the length of the result is 1. \n",
    "\n",
    "**The safer alternative is to use .one() instead **"
   ]
  },
  {
   "cell_type": "markdown",
   "metadata": {},
   "source": [
    "## Conditional \n",
    "\n",
    "Adding a condition on the nested resource"
   ]
  },
  {
   "cell_type": "code",
   "execution_count": 18,
   "metadata": {},
   "outputs": [],
   "source": [
    "result = db.session.query(User) \\\n",
    "    .join(User.payments) \\\n",
    "    .options(contains_eager(User.payments)) \\\n",
    "    .filter(\n",
    "        Payments.testId.in_([24, 58, 93, 4])) \\\n",
    "    .filter(User.id == 1).one_or_none()\n",
    "# user.id =1 is guaranteed to have exactly 1 row in Users table, so one() should work. \n",
    "# if an exception occurs, theres a bigger problem and database admin should be notified.\n"
   ]
  },
  {
   "cell_type": "code",
   "execution_count": 19,
   "metadata": {},
   "outputs": [],
   "source": [
    "db.session.close_all() # this is required for just this notebook "
   ]
  },
  {
   "cell_type": "code",
   "execution_count": 20,
   "metadata": {},
   "outputs": [
    {
     "name": "stdout",
     "output_type": "stream",
     "text": [
      "User({\n",
      "    \"college_id\": 1,\n",
      "    \"email\": \"sayantan.chat@yahoo.co.in\",\n",
      "    \"fb_id\": \"10205780376428005\",\n",
      "    \"fb_oauth_token\": \"EAARlyK0lHg4BAL9XZCdmcPiSg1ICdPowoqDux0POQnMreIOWdKFzTXK7Pqkw8NswWDIZCzuPtjx86QbTtZC6Wnz7kDA7ZBtvwBhjQ986gkrrHVzWTO78jfXEs5MfJPk02B2pZA6dx6YZAiKllSl7tmuqqf9KUsZAxvya7n14LacZCgZDZD\",\n",
      "    \"full_name\": \"Sayantan Chatterjee\",\n",
      "    \"google_id\": null,\n",
      "    \"google_oauth_token\": null,\n",
      "    \"google_token_id\": null,\n",
      "    \"id\": 1,\n",
      "    \"is_active\": true,\n",
      "    \"payments\": [\n",
      "        {\n",
      "            \"id\": 2,\n",
      "            \"paymentAmount\": 10000,\n",
      "            \"paymentId\": \"pay_7VA9D4Yp6ugurp\",\n",
      "            \"paymentPromoCode\": null,\n",
      "            \"paymentSuccess\": true,\n",
      "            \"testId\": 24,\n",
      "            \"userId\": 1\n",
      "        },\n",
      "        {\n",
      "            \"id\": 550,\n",
      "            \"paymentAmount\": null,\n",
      "            \"paymentId\": null,\n",
      "            \"paymentPromoCode\": null,\n",
      "            \"paymentSuccess\": true,\n",
      "            \"testId\": 58,\n",
      "            \"userId\": 1\n",
      "        },\n",
      "        {\n",
      "            \"id\": 775,\n",
      "            \"paymentAmount\": null,\n",
      "            \"paymentId\": null,\n",
      "            \"paymentPromoCode\": null,\n",
      "            \"paymentSuccess\": true,\n",
      "            \"testId\": 93,\n",
      "            \"userId\": 1\n",
      "        },\n",
      "        {\n",
      "            \"id\": 930,\n",
      "            \"paymentAmount\": null,\n",
      "            \"paymentId\": null,\n",
      "            \"paymentPromoCode\": null,\n",
      "            \"paymentSuccess\": true,\n",
      "            \"testId\": 4,\n",
      "            \"userId\": 1\n",
      "        }\n",
      "    ],\n",
      "    \"phone_no\": null,\n",
      "    \"profile_picture\": null,\n",
      "    \"referral_bonus\": null,\n",
      "    \"referral_code\": null,\n",
      "    \"referral_code_used\": null,\n",
      "    \"type\": \"standard\",\n",
      "    \"wallet\": 0\n",
      "})\n"
     ]
    }
   ],
   "source": [
    "pprint(result)"
   ]
  },
  {
   "cell_type": "code",
   "execution_count": 21,
   "metadata": {},
   "outputs": [
    {
     "name": "stdout",
     "output_type": "stream",
     "text": [
      "[Payments({\n",
      "    \"id\": 2,\n",
      "    \"paymentAmount\": 10000,\n",
      "    \"paymentId\": \"pay_7VA9D4Yp6ugurp\",\n",
      "    \"paymentPromoCode\": null,\n",
      "    \"paymentSuccess\": true,\n",
      "    \"testId\": 24,\n",
      "    \"userId\": 1\n",
      "}),\n",
      " Payments({\n",
      "    \"id\": 550,\n",
      "    \"paymentAmount\": null,\n",
      "    \"paymentId\": null,\n",
      "    \"paymentPromoCode\": null,\n",
      "    \"paymentSuccess\": true,\n",
      "    \"testId\": 58,\n",
      "    \"userId\": 1\n",
      "}),\n",
      " Payments({\n",
      "    \"id\": 775,\n",
      "    \"paymentAmount\": null,\n",
      "    \"paymentId\": null,\n",
      "    \"paymentPromoCode\": null,\n",
      "    \"paymentSuccess\": true,\n",
      "    \"testId\": 93,\n",
      "    \"userId\": 1\n",
      "}),\n",
      " Payments({\n",
      "    \"id\": 930,\n",
      "    \"paymentAmount\": null,\n",
      "    \"paymentId\": null,\n",
      "    \"paymentPromoCode\": null,\n",
      "    \"paymentSuccess\": true,\n",
      "    \"testId\": 4,\n",
      "    \"userId\": 1\n",
      "})]\n"
     ]
    }
   ],
   "source": [
    "pprint(result.payments) # will not call db again. "
   ]
  },
  {
   "cell_type": "markdown",
   "metadata": {},
   "source": [
    "## Multi Nesting \n",
    "\n",
    "The same logic can be extended to arbitrary amount of nesting. \n",
    "\n",
    "In this example , we want to get a particular user's payments , and the name of the test that those payments belong to. \n"
   ]
  },
  {
   "cell_type": "code",
   "execution_count": 22,
   "metadata": {},
   "outputs": [],
   "source": [
    "# if you have multiple joins ,his is how you specify to load all(line 6-7)\n",
    "\n",
    "result = db.session.query(User)\\\n",
    "        .join(User.payments)\\\n",
    "        .join(Payments.test)\\\n",
    "        .options(contains_eager(User.payments)\\\n",
    "                .contains_eager(Payments.test))\\\n",
    "        .filter(Payments.testId.in_([24,58,93,4]))\\\n",
    "        .filter(User.id ==1).all()[0] # notice this. same reason as previous example.\n",
    "db.session.close_all() # this is required for just this notebook "
   ]
  },
  {
   "cell_type": "code",
   "execution_count": 23,
   "metadata": {},
   "outputs": [
    {
     "name": "stdout",
     "output_type": "stream",
     "text": [
      "['Reading Comprehension 01', 'Beatest Mock', 'Beatest_Mock', 'BEAT CAT 02']\n"
     ]
    }
   ],
   "source": [
    "pprint([result.test.name for result in result.payments])  # did not do a 2nd db call"
   ]
  },
  {
   "cell_type": "markdown",
   "metadata": {},
   "source": [
    "## A Real Example\n",
    "\n",
    "Check if a user can access a particular question attempt.<br>This is done by doing a join from \n",
    "TestAttempt --> SectionAttempts --> QuestionAttempts \n",
    "\n",
    "A filter to match the userid with the TestAttempt's user id , \n",
    "and the inputs for the (SectionAttempt.id , Question.id).<br>\n",
    "If user has access to that particular pair, a row will be returned, else nothing \n",
    "will be returned."
   ]
  },
  {
   "cell_type": "code",
   "execution_count": 24,
   "metadata": {},
   "outputs": [],
   "source": [
    "query = TestAttempt \\\n",
    "    .query \\\n",
    "    .join(SectionAttempt) \\\n",
    "    .join(QuestionAttempt) \\\n",
    "    .filter(QuestionAttempt.section_attempt_id == 12) \\\n",
    "    .filter(QuestionAttempt.question_id == 5689) \\\n",
    "    .filter(TestAttempt.user_id == 536) \\\n",
    "    .exists()  # this puts the rest of the query into a sub query, and adds exists() to the result\n",
    "\n",
    "exists = db.session.query(query).scalar()\n",
    "db.session.close_all()  # this is required for just this notebook\n"
   ]
  },
  {
   "cell_type": "code",
   "execution_count": 25,
   "metadata": {},
   "outputs": [
    {
     "name": "stdout",
     "output_type": "stream",
     "text": [
      "True\n"
     ]
    }
   ],
   "source": [
    "pprint(exists)"
   ]
  },
  {
   "cell_type": "markdown",
   "metadata": {},
   "source": [
    "## Tip - use load_only to really speed up queries\n",
    "\n",
    "load_only prevents loading all columns. Sometimes, you dont need all the columns, and doing this<br>can really improve speed. E.g. By using only primary keys, its possible to speed up query speed by 10x.  \n",
    "\n",
    "In many cases, especially joins , only ids are required. In such cases, you can notice a dramatic speed boost"
   ]
  },
  {
   "cell_type": "markdown",
   "metadata": {},
   "source": [
    "### Example \n",
    "\n",
    "In order to calculate score, it is possible to do this join: \n",
    "\n",
    "`TestAttempt -> Test -> Sections -> Questions -> Choices`\n",
    "\n",
    "and also\n",
    "\n",
    "`TestAttempt -> Test -> Sections -> Questions -> QuestionAttempt`\n",
    "\n",
    "Test has instruction html (which is lots of data), and so does Question.\n",
    "We do not need these html in any way "
   ]
  },
  {
   "cell_type": "code",
   "execution_count": 26,
   "metadata": {},
   "outputs": [],
   "source": [
    "def query_without_load_only():\n",
    "    result = (TestAttempt.query\n",
    "              .options(\n",
    "            contains_eager(TestAttempt.test)\n",
    "            .contains_eager(Test.sections)\n",
    "            .contains_eager(Section.questions)\n",
    "            .contains_eager(Question.choices))\n",
    "              .options(\n",
    "            contains_eager(TestAttempt.test)\n",
    "            .contains_eager(Test.sections)\n",
    "            .contains_eager(Section.questions)\n",
    "            .contains_eager(Question.question_attempts))\n",
    "              .join(TestAttempt.test)\n",
    "              .join(Test.sections)\n",
    "              .join(Section.questions)\n",
    "              .join(Question.choices)\n",
    "              .join(Question.question_attempts)\n",
    "              .filter(TestAttempt.id == 1)\n",
    "              .one())\n",
    "\n",
    "    db.session.close_all()  # this is required for just this notebook \n",
    "    return result\n"
   ]
  },
  {
   "cell_type": "code",
   "execution_count": 27,
   "metadata": {},
   "outputs": [
    {
     "name": "stdout",
     "output_type": "stream",
     "text": [
      "661 ms ± 216 ms per loop (mean ± std. dev. of 7 runs, 1 loop each)\n"
     ]
    }
   ],
   "source": [
    "%timeit -n 1 query_without_load_only()"
   ]
  },
  {
   "cell_type": "code",
   "execution_count": 31,
   "metadata": {},
   "outputs": [],
   "source": [
    "pprint(query_without_load_only())"
   ]
  },
  {
   "cell_type": "code",
   "execution_count": 32,
   "metadata": {},
   "outputs": [],
   "source": [
    "def query_with_load_only():\n",
    "    result = TestAttempt.query\\\n",
    "    .options(\n",
    "        contains_eager(TestAttempt.test).load_only(Test.id)\\\n",
    "        .contains_eager(Test.sections).load_only(Section.id)\\\n",
    "        .contains_eager(Section.questions).load_only(\n",
    "            Question.id,\n",
    "            Question.points_correct,\n",
    "            Question.points_wrong)\\\n",
    "            .contains_eager(Question.choices)\\\n",
    "                .load_only(Choice.id,Choice.is_correct)\\\n",
    "        )\\\n",
    "    .options(\n",
    "        contains_eager(TestAttempt.test).load_only(Test.id)\\\n",
    "        .contains_eager(Test.sections).load_only(Section.id)\\\n",
    "        .contains_eager(Section.questions).load_only(Question.id)\n",
    "        .contains_eager(Question.question_attempts)\\\n",
    "        )\\\n",
    "    .join(TestAttempt.test)\\\n",
    "    .join(Test.sections)\\\n",
    "    .join(Section.questions)\\\n",
    "    .join(Question.choices)\\\n",
    "    .join(Question.question_attempts)\\\n",
    "    .filter(TestAttempt.id == 1)\\\n",
    "    .one()\n",
    "    \n",
    "    db.session.close_all() # this is required for just this notebook \n",
    "    return result"
   ]
  },
  {
   "cell_type": "code",
   "execution_count": 33,
   "metadata": {},
   "outputs": [
    {
     "name": "stdout",
     "output_type": "stream",
     "text": [
      "613 ms ± 164 ms per loop (mean ± std. dev. of 7 runs, 1 loop each)\n"
     ]
    }
   ],
   "source": [
    "%timeit -n 1 query_with_load_only()"
   ]
  },
  {
   "cell_type": "code",
   "execution_count": 35,
   "metadata": {},
   "outputs": [],
   "source": [
    "pprint(query_with_load_only())"
   ]
  },
  {
   "cell_type": "markdown",
   "metadata": {},
   "source": [
    "#### Difference is 3.45 seconds vs 454 milliseconds. Over 7x faster! "
   ]
  }
 ],
 "metadata": {
  "hide_input": false,
  "kernelspec": {
   "display_name": "Python 3",
   "language": "python",
   "name": "python3"
  },
  "language_info": {
   "codemirror_mode": {
    "name": "ipython",
    "version": 3
   },
   "file_extension": ".py",
   "mimetype": "text/x-python",
   "name": "python",
   "nbconvert_exporter": "python",
   "pygments_lexer": "ipython3",
   "version": "3.6.4"
  },
  "varInspector": {
   "cols": {
    "lenName": 16.0,
    "lenType": 16.0,
    "lenVar": 40.0
   },
   "kernels_config": {
    "python": {
     "delete_cmd_postfix": "",
     "delete_cmd_prefix": "del ",
     "library": "var_list.py",
     "varRefreshCmd": "print(var_dic_list())"
    },
    "r": {
     "delete_cmd_postfix": ") ",
     "delete_cmd_prefix": "rm(",
     "library": "var_list.r",
     "varRefreshCmd": "cat(var_dic_list()) "
    }
   },
   "types_to_exclude": [
    "module",
    "function",
    "builtin_function_or_method",
    "instance",
    "_Feature"
   ],
   "window_display": false
  }
 },
 "nbformat": 4,
 "nbformat_minor": 1
}
